{
  "nbformat": 4,
  "nbformat_minor": 0,
  "metadata": {
    "colab": {
      "provenance": [],
      "gpuType": "T4"
    },
    "kernelspec": {
      "name": "python3",
      "display_name": "Python 3"
    },
    "language_info": {
      "name": "python"
    },
    "accelerator": "GPU"
  },
  "cells": [
    {
      "cell_type": "code",
      "source": [
        "pip install pydub"
      ],
      "metadata": {
        "colab": {
          "base_uri": "https://localhost:8080/"
        },
        "id": "kbcoVe0JTnkV",
        "outputId": "263a1de7-e5b1-4294-daa9-c37ff3e50b41"
      },
      "execution_count": null,
      "outputs": [
        {
          "output_type": "stream",
          "name": "stdout",
          "text": [
            "Collecting pydub\n",
            "  Downloading pydub-0.25.1-py2.py3-none-any.whl.metadata (1.4 kB)\n",
            "Downloading pydub-0.25.1-py2.py3-none-any.whl (32 kB)\n",
            "Installing collected packages: pydub\n",
            "Successfully installed pydub-0.25.1\n"
          ]
        }
      ]
    },
    {
      "cell_type": "code",
      "execution_count": null,
      "metadata": {
        "id": "U48JhfOmREww"
      },
      "outputs": [],
      "source": [
        "import os\n",
        "from pydub import AudioSegment"
      ]
    },
    {
      "cell_type": "code",
      "source": [
        "from google.colab import drive\n",
        "drive.mount('/content/drive')"
      ],
      "metadata": {
        "colab": {
          "base_uri": "https://localhost:8080/"
        },
        "id": "eWcKZshNSk-s",
        "outputId": "fbf85545-20f7-4f2f-cb14-1cf1a16cf171"
      },
      "execution_count": null,
      "outputs": [
        {
          "output_type": "stream",
          "name": "stdout",
          "text": [
            "Mounted at /content/drive\n"
          ]
        }
      ]
    },
    {
      "cell_type": "code",
      "source": [
        "# Path ke file audio asli\n",
        "input_file = \"/content/drive/MyDrive/PENELITIAN/SAMPEL_SUARA/Resources/splitted/Mandaliong/MANDALIONG_02.wav\""
      ],
      "metadata": {
        "id": "lkFriFp_Sl2q"
      },
      "execution_count": null,
      "outputs": []
    },
    {
      "cell_type": "code",
      "source": [
        "# Membaca file audio\n",
        "audio = AudioSegment.from_wav(input_file)\n",
        "\n",
        "# Durasi tiap segmen dalam milidetik\n",
        "segment_duration = 5 * 1000\n",
        "\n",
        "\n",
        "\n",
        "# Membuat folder untuk menyimpan hasil split\n",
        "output_folder = \"/content/drive/MyDrive/PENELITIAN/SAMPEL_SUARA/DATASET/Mandaliong\"\n",
        "os.makedirs(output_folder, exist_ok=True)\n",
        "\n",
        "# Split audio ke segmen 5 detik dan simpan\n",
        "for i, start in enumerate(range(0, len(audio), segment_duration)):\n",
        "    segment = audio[start:start + segment_duration]\n",
        "    output_file = os.path.join(output_folder, f\"Mandaliong_{i + 1110}.wav\")\n",
        "    segment.export(output_file, format=\"wav\")\n",
        "\n",
        "print(\"Splitting selesai. Hasil tersimpan di folder:\", output_folder)"
      ],
      "metadata": {
        "colab": {
          "base_uri": "https://localhost:8080/"
        },
        "id": "hHYCD5sSTu7-",
        "outputId": "b71bf5f2-23c2-48d9-fa77-ca62b089d405"
      },
      "execution_count": null,
      "outputs": [
        {
          "output_type": "stream",
          "name": "stdout",
          "text": [
            "Splitting selesai. Hasil tersimpan di folder: /content/drive/MyDrive/PENELITIAN/SAMPEL_SUARA/DATASET/Mandaliong\n"
          ]
        }
      ]
    },
    {
      "cell_type": "markdown",
      "source": [
        "# File Rename"
      ],
      "metadata": {
        "id": "zrzGpqx_vCb6"
      }
    },
    {
      "cell_type": "code",
      "source": [
        "import os\n",
        "\n",
        "def rename_files_in_folder(folder_path):\n",
        "    # Dapatkan daftar semua file dalam folder\n",
        "    files = os.listdir(folder_path)\n",
        "\n",
        "    # Filter hanya file (bukan direktori)\n",
        "    files = [f for f in files if os.path.isfile(os.path.join(folder_path, f))]\n",
        "\n",
        "    # Urutkan file berdasarkan nama\n",
        "    files.sort()\n",
        "\n",
        "    # Ubah nama file\n",
        "    for i, file_name in enumerate(files, start=1):\n",
        "        new_name = f\"Kesok-kesok_{i}{os.path.splitext(file_name)[1]}\"  # Tambahkan ekstensi file\n",
        "        os.rename(\n",
        "            os.path.join(folder_path, file_name),\n",
        "            os.path.join(folder_path, new_name)\n",
        "        )\n",
        "\n",
        "# Contoh penggunaan\n",
        "folder_path = '/content/drive/MyDrive/PENELITIAN/SAMPEL_SUARA/Splitted/Kesok-kesok/Kesok-kesok_trimmed'\n",
        "rename_files_in_folder(folder_path)"
      ],
      "metadata": {
        "id": "T9hYCilcUSSY"
      },
      "execution_count": null,
      "outputs": []
    },
    {
      "cell_type": "code",
      "source": [],
      "metadata": {
        "id": "ONmSm_oWxZ_R"
      },
      "execution_count": null,
      "outputs": []
    }
  ]
}